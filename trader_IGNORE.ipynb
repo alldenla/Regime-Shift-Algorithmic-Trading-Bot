{
 "cells": [
  {
   "cell_type": "markdown",
   "metadata": {},
   "source": [
    "## Find regime for today"
   ]
  },
  {
   "cell_type": "markdown",
   "metadata": {},
   "source": [
    "columns: = Index(['Volume', 'Close_1_Value', 'Volume_1_Value', 'Close_2_Value',\n",
    "       'Volume_2_Value', 'Close_3_Value', 'Volume_3_Value', 'Close_5_Value',\n",
    "       'Volume_5_Value', 'Close_7_Value', 'Volume_7_Value', 'Close_14_Value',\n",
    "       'Volume_14_Value', 'Close_21_Value', 'Volume_21_Value', 'Volt_3_Value',\n",
    "       'Volt_7_Value', 'Volt_14_Value', 'Volt_21_Value', 'Close', 'TMA', 'ATR',\n",
    "       'low_var', 'high_var', 'Open', 'High', 'Low', 'LN_return'],\n",
    "      dtype='object')\n",
    "\n",
    "\n",
    "\n",
    "we need to prepare the S&P500 data today that has those columns"
   ]
  },
  {
   "cell_type": "markdown",
   "metadata": {},
   "source": [
    "## TMA & ATR"
   ]
  },
  {
   "cell_type": "code",
   "execution_count": null,
   "metadata": {},
   "outputs": [],
   "source": [
    "from ta.volatility import AverageTrueRange\n",
    "\n",
    "atr = AverageTrueRange(high=sp['High'], low=sp['Low'], close=sp['Close'], window=20)\n",
    "sp1['ATR']=atr.average_true_range()\n",
    "\n",
    "def calculate_TMA(data, period):\n",
    "    \"\"\"Calculates a Triangular Moving Average (TMA).\n",
    "\n",
    "    Args:\n",
    "        data: A pandas Series of price data\n",
    "        period: The period of the moving average.\n",
    "\n",
    "    Returns:\n",
    "        A pandas Series containing the TMA calculation\n",
    "    \"\"\"\n",
    "\n",
    "    SMA = data.rolling(period).mean()  # Calculate a simple moving average first\n",
    "    TMA = SMA.rolling(period).mean()   # Smooth the SMA to get the TMA\n",
    "    return TMA\n",
    "\n",
    "period = 250\n",
    "TMA = calculate_TMA(sp1, period)\n",
    "sp1['TMA']=TMA['Close']"
   ]
  }
 ],
 "metadata": {
  "language_info": {
   "name": "python"
  }
 },
 "nbformat": 4,
 "nbformat_minor": 2
}
