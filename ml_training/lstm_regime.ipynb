{
 "cells": [
  {
   "cell_type": "code",
   "execution_count": 1,
   "metadata": {},
   "outputs": [
    {
     "name": "stderr",
     "output_type": "stream",
     "text": [
      "/Users/alden/quantfin/lib/python3.11/site-packages/yfinance/utils.py:775: FutureWarning: The 'unit' keyword in TimedeltaIndex construction is deprecated and will be removed in a future version. Use pd.to_timedelta instead.\n",
      "  df.index += _pd.TimedeltaIndex(dst_error_hours, 'h')\n",
      "[*********************100%%**********************]  1 of 1 completed\n"
     ]
    }
   ],
   "source": [
    "import yfinance as yf\n",
    "import pandas as pd\n",
    "import numpy as np\n",
    "\n",
    "ml_df = yf.download('^GSPC', start=\"1978-01-01\", interval=\"1d\")\n",
    "\n",
    "for i in [1, 2, 3, 5, 7, 14, 21]:\n",
    "    ml_df[f'Close_{i}_Value'] = ml_df['Adj Close'].pct_change(i)\n",
    "    ml_df[f'Volume_{i}_Value'] = ml_df['Volume'].pct_change(i)\n",
    "ml_df.dropna(inplace=True)\n",
    "for i in [3, 7, 14, 21]:\n",
    "    ml_df[f'Volt_{i}_Value'] = np.log(1 + ml_df['Close_1_Value']).rolling(i).std()\n",
    "ml_df.dropna(inplace=True)  \n",
    "\n",
    "sp500_regimes = pd.read_csv('../data/sp500_regimes.csv')\n",
    "sp500_regimes.set_index('Date', inplace=True)\n",
    "sp500_regimes.index = pd.to_datetime(sp500_regimes.index)\n",
    "ml_df.index = pd.to_datetime(ml_df.index)\n",
    "data = pd.merge(ml_df.drop(columns=['High','Low','Open','Close','Adj Close']), sp500_regimes, on='Date',how='inner')\n",
    "data['color'] = data['color'].shift(-1)\n",
    "data.dropna(inplace=True)"
   ]
  },
  {
   "cell_type": "code",
   "execution_count": 2,
   "metadata": {},
   "outputs": [],
   "source": [
    "X = data.drop(columns=['color'])\n",
    "y = data['color']"
   ]
  },
  {
   "cell_type": "code",
   "execution_count": 3,
   "metadata": {},
   "outputs": [],
   "source": [
    "X.head()\n",
    "X_columns = X.columns"
   ]
  },
  {
   "cell_type": "code",
   "execution_count": 4,
   "metadata": {},
   "outputs": [
    {
     "data": {
      "text/plain": [
       "array([0, 0, 0, ..., 0, 0, 0])"
      ]
     },
     "execution_count": 4,
     "metadata": {},
     "output_type": "execute_result"
    }
   ],
   "source": [
    "from sklearn.preprocessing import LabelEncoder\n",
    "from keras.utils import to_categorical\n",
    "from sklearn.preprocessing import StandardScaler\n",
    "\n",
    "# Assume `data` is your DataFrame\n",
    "scaler = StandardScaler()\n",
    "\n",
    "# Fit on your data and then transform it\n",
    "X = scaler.fit_transform(X)\n",
    "\n",
    "# If you want to convert it back to a DataFrame\n",
    "X = pd.DataFrame(X, columns=X_columns)\n",
    "\n",
    "# Assume y is your label data\n",
    "encoder = LabelEncoder()\n",
    "y = encoder.fit_transform(y)\n",
    "y"
   ]
  },
  {
   "cell_type": "code",
   "execution_count": 7,
   "metadata": {},
   "outputs": [],
   "source": [
    "# Assume X and y are your data and labels\n",
    "train_size = int(len(X) * 0.8)\n",
    "\n",
    "X_train, X_test = X[:train_size], X[train_size:]\n",
    "y_train, y_test = y[:train_size], y[train_size:]\n",
    "\n",
    "\n"
   ]
  },
  {
   "cell_type": "code",
   "execution_count": 8,
   "metadata": {},
   "outputs": [],
   "source": [
    "from imblearn.over_sampling import RandomOverSampler, SMOTE, ADASYN\n",
    "\n",
    "# Assuming X is your dataset and y is the target variable\n",
    "oversampler = SMOTE()  # Choose your oversampler: RandomOverSampler, SMOTE, or ADASYN\n",
    "X_resampled, y_resampled = oversampler.fit_resample(X_train, y_train)"
   ]
  },
  {
   "cell_type": "code",
   "execution_count": 9,
   "metadata": {},
   "outputs": [],
   "source": [
    "n_timesteps = 1\n",
    "\n",
    "\n",
    "# Assuming you have X_resampled_reshaped and y_train as your training data\n",
    "train_size = int(len(X_resampled) * 0.8)  # 80% for training\n",
    "X_train, X_val = X_resampled[:train_size], X_resampled[train_size:]\n",
    "y_train, y_val = y_resampled[:train_size], y_resampled[train_size:]\n",
    "\n",
    "X_train= np.reshape(X_train,(X_train.shape[0], n_timesteps, X_train.shape[1]//n_timesteps))\n",
    "X_val = np.reshape(X_val,(X_val.shape[0], n_timesteps, X_val.shape[1]//n_timesteps))\n",
    "X_test_reshaped = np.reshape(X_test,(X_test.shape[0], n_timesteps, X_test.shape[1]//n_timesteps))"
   ]
  },
  {
   "cell_type": "code",
   "execution_count": 10,
   "metadata": {},
   "outputs": [
    {
     "data": {
      "text/plain": [
       "(18873, 1, 28)"
      ]
     },
     "execution_count": 10,
     "metadata": {},
     "output_type": "execute_result"
    }
   ],
   "source": [
    "X_train.shape"
   ]
  },
  {
   "cell_type": "code",
   "execution_count": 16,
   "metadata": {},
   "outputs": [
    {
     "name": "stderr",
     "output_type": "stream",
     "text": [
      "WARNING:absl:At this time, the v2.11+ optimizer `tf.keras.optimizers.Adam` runs slowly on M1/M2 Macs, please use the legacy Keras optimizer instead, located at `tf.keras.optimizers.legacy.Adam`.\n"
     ]
    },
    {
     "name": "stdout",
     "output_type": "stream",
     "text": [
      "Epoch 1/100\n",
      "189/189 [==============================] - 4s 10ms/step - loss: 2.1060 - accuracy: 0.3120 - val_loss: 2.0729 - val_accuracy: 0.0000e+00\n",
      "Epoch 2/100\n",
      "189/189 [==============================] - 2s 11ms/step - loss: 1.8000 - accuracy: 0.3134 - val_loss: 2.9276 - val_accuracy: 0.0000e+00\n",
      "Epoch 3/100\n",
      "189/189 [==============================] - 2s 11ms/step - loss: 1.4450 - accuracy: 0.4569 - val_loss: 2.1602 - val_accuracy: 0.0000e+00\n",
      "Epoch 4/100\n",
      "189/189 [==============================] - 2s 11ms/step - loss: 1.2085 - accuracy: 0.7038 - val_loss: 2.3723 - val_accuracy: 0.0000e+00\n",
      "Epoch 5/100\n",
      "189/189 [==============================] - 2s 11ms/step - loss: 0.9709 - accuracy: 0.7396 - val_loss: 2.0500 - val_accuracy: 0.0023\n",
      "Epoch 6/100\n",
      "189/189 [==============================] - 2s 11ms/step - loss: 0.8442 - accuracy: 0.7716 - val_loss: 2.0932 - val_accuracy: 0.0769\n",
      "Epoch 7/100\n",
      "189/189 [==============================] - 2s 12ms/step - loss: 0.8041 - accuracy: 0.7798 - val_loss: 1.8448 - val_accuracy: 0.1348\n",
      "Epoch 8/100\n",
      "189/189 [==============================] - 2s 12ms/step - loss: 0.7764 - accuracy: 0.7885 - val_loss: 1.8102 - val_accuracy: 0.1433\n",
      "Epoch 9/100\n",
      "189/189 [==============================] - 2s 11ms/step - loss: 0.7545 - accuracy: 0.7952 - val_loss: 1.8298 - val_accuracy: 0.1367\n",
      "Epoch 10/100\n",
      "189/189 [==============================] - 2s 12ms/step - loss: 0.7340 - accuracy: 0.7975 - val_loss: 1.8506 - val_accuracy: 0.1428\n",
      "Epoch 11/100\n",
      "189/189 [==============================] - 2s 12ms/step - loss: 0.7149 - accuracy: 0.7997 - val_loss: 1.8564 - val_accuracy: 0.1422\n",
      "Epoch 12/100\n",
      "189/189 [==============================] - 2s 13ms/step - loss: 0.6995 - accuracy: 0.8028 - val_loss: 1.5832 - val_accuracy: 0.1812\n",
      "Epoch 13/100\n",
      "189/189 [==============================] - 2s 12ms/step - loss: 0.7051 - accuracy: 0.8084 - val_loss: 1.7905 - val_accuracy: 0.1536\n",
      "Epoch 14/100\n",
      "189/189 [==============================] - 2s 12ms/step - loss: 0.6661 - accuracy: 0.8099 - val_loss: 1.4936 - val_accuracy: 0.2185\n",
      "Epoch 15/100\n",
      "189/189 [==============================] - 3s 14ms/step - loss: 0.6550 - accuracy: 0.8142 - val_loss: 1.6143 - val_accuracy: 0.1894\n",
      "Epoch 16/100\n",
      "189/189 [==============================] - 3s 14ms/step - loss: 0.6381 - accuracy: 0.8167 - val_loss: 1.6125 - val_accuracy: 0.1873\n",
      "Epoch 17/100\n",
      "189/189 [==============================] - 2s 12ms/step - loss: 0.6221 - accuracy: 0.8210 - val_loss: 1.6703 - val_accuracy: 0.1801\n",
      "Epoch 18/100\n",
      "189/189 [==============================] - 2s 11ms/step - loss: 0.6075 - accuracy: 0.8221 - val_loss: 1.4506 - val_accuracy: 0.2452\n",
      "Epoch 19/100\n",
      "189/189 [==============================] - 2s 11ms/step - loss: 0.6093 - accuracy: 0.8283 - val_loss: 1.6859 - val_accuracy: 0.1894\n",
      "Epoch 20/100\n",
      "189/189 [==============================] - 2s 11ms/step - loss: 0.5857 - accuracy: 0.8280 - val_loss: 1.6622 - val_accuracy: 0.1909\n",
      "Epoch 21/100\n",
      "189/189 [==============================] - 2s 11ms/step - loss: 0.5720 - accuracy: 0.8328 - val_loss: 1.4154 - val_accuracy: 0.2931\n",
      "Epoch 22/100\n",
      "189/189 [==============================] - 2s 11ms/step - loss: 0.5591 - accuracy: 0.8342 - val_loss: 1.3874 - val_accuracy: 0.3035\n",
      "Epoch 23/100\n",
      "189/189 [==============================] - 2s 11ms/step - loss: 0.5433 - accuracy: 0.8420 - val_loss: 1.3618 - val_accuracy: 0.3325\n",
      "Epoch 24/100\n",
      "189/189 [==============================] - 2s 12ms/step - loss: 0.5385 - accuracy: 0.8448 - val_loss: 1.5704 - val_accuracy: 0.2477\n",
      "Epoch 25/100\n",
      "189/189 [==============================] - 2s 12ms/step - loss: 0.5265 - accuracy: 0.8411 - val_loss: 1.1968 - val_accuracy: 0.4359\n",
      "Epoch 26/100\n",
      "189/189 [==============================] - 2s 11ms/step - loss: 0.5136 - accuracy: 0.8489 - val_loss: 1.2634 - val_accuracy: 0.3990\n",
      "Epoch 27/100\n",
      "189/189 [==============================] - 2s 11ms/step - loss: 0.5060 - accuracy: 0.8486 - val_loss: 1.2831 - val_accuracy: 0.3916\n",
      "Epoch 28/100\n",
      "189/189 [==============================] - 2s 12ms/step - loss: 0.4945 - accuracy: 0.8501 - val_loss: 1.3277 - val_accuracy: 0.4005\n",
      "Epoch 29/100\n",
      "189/189 [==============================] - 2s 13ms/step - loss: 0.4809 - accuracy: 0.8537 - val_loss: 0.9853 - val_accuracy: 0.5844\n",
      "Epoch 30/100\n",
      "189/189 [==============================] - 3s 13ms/step - loss: 0.4696 - accuracy: 0.8557 - val_loss: 1.0402 - val_accuracy: 0.5510\n",
      "Epoch 31/100\n",
      "189/189 [==============================] - 2s 13ms/step - loss: 0.4627 - accuracy: 0.8567 - val_loss: 1.1840 - val_accuracy: 0.4806\n",
      "Epoch 32/100\n",
      "189/189 [==============================] - 2s 13ms/step - loss: 0.4483 - accuracy: 0.8598 - val_loss: 1.0209 - val_accuracy: 0.5847\n",
      "Epoch 33/100\n",
      "189/189 [==============================] - 2s 13ms/step - loss: 0.4436 - accuracy: 0.8622 - val_loss: 0.8625 - val_accuracy: 0.6470\n",
      "Epoch 34/100\n",
      "189/189 [==============================] - 2s 13ms/step - loss: 0.4254 - accuracy: 0.8694 - val_loss: 1.2237 - val_accuracy: 0.4687\n",
      "Epoch 35/100\n",
      "189/189 [==============================] - 2s 11ms/step - loss: 0.4184 - accuracy: 0.8686 - val_loss: 0.9543 - val_accuracy: 0.6156\n",
      "Epoch 36/100\n",
      "189/189 [==============================] - 2s 11ms/step - loss: 0.4096 - accuracy: 0.8745 - val_loss: 1.0724 - val_accuracy: 0.5561\n",
      "Epoch 37/100\n",
      "189/189 [==============================] - 2s 12ms/step - loss: 0.4034 - accuracy: 0.8735 - val_loss: 0.8760 - val_accuracy: 0.6315\n",
      "Epoch 38/100\n",
      "189/189 [==============================] - 2s 13ms/step - loss: 0.3895 - accuracy: 0.8742 - val_loss: 0.8014 - val_accuracy: 0.6785\n",
      "Epoch 39/100\n",
      "189/189 [==============================] - 3s 14ms/step - loss: 0.3813 - accuracy: 0.8786 - val_loss: 0.7877 - val_accuracy: 0.6637\n",
      "Epoch 40/100\n",
      "189/189 [==============================] - 3s 15ms/step - loss: 0.3692 - accuracy: 0.8796 - val_loss: 0.6208 - val_accuracy: 0.7550\n",
      "Epoch 41/100\n",
      "189/189 [==============================] - 3s 15ms/step - loss: 0.3630 - accuracy: 0.8825 - val_loss: 0.7480 - val_accuracy: 0.6817\n",
      "Epoch 42/100\n",
      "189/189 [==============================] - 2s 12ms/step - loss: 0.3517 - accuracy: 0.8885 - val_loss: 0.7242 - val_accuracy: 0.6985\n",
      "Epoch 43/100\n",
      "189/189 [==============================] - 3s 14ms/step - loss: 0.3488 - accuracy: 0.8903 - val_loss: 0.6252 - val_accuracy: 0.7171\n",
      "Epoch 44/100\n",
      "189/189 [==============================] - 3s 14ms/step - loss: 0.3297 - accuracy: 0.8904 - val_loss: 0.7589 - val_accuracy: 0.6645\n",
      "Epoch 45/100\n",
      "189/189 [==============================] - 2s 12ms/step - loss: 0.3275 - accuracy: 0.8921 - val_loss: 0.6558 - val_accuracy: 0.6978\n",
      "Epoch 46/100\n",
      "189/189 [==============================] - 2s 12ms/step - loss: 0.3160 - accuracy: 0.8955 - val_loss: 0.5439 - val_accuracy: 0.7572\n",
      "Epoch 47/100\n",
      "189/189 [==============================] - 3s 14ms/step - loss: 0.3079 - accuracy: 0.8982 - val_loss: 0.5022 - val_accuracy: 0.7663\n",
      "Epoch 48/100\n",
      "189/189 [==============================] - 3s 13ms/step - loss: 0.2973 - accuracy: 0.9008 - val_loss: 0.5486 - val_accuracy: 0.7576\n",
      "Epoch 49/100\n",
      "189/189 [==============================] - 2s 12ms/step - loss: 0.2953 - accuracy: 0.9011 - val_loss: 0.3648 - val_accuracy: 0.8364\n",
      "Epoch 50/100\n",
      "189/189 [==============================] - 2s 11ms/step - loss: 0.2907 - accuracy: 0.9013 - val_loss: 0.4843 - val_accuracy: 0.7809\n",
      "Epoch 51/100\n",
      "189/189 [==============================] - 2s 11ms/step - loss: 0.2818 - accuracy: 0.9068 - val_loss: 0.5940 - val_accuracy: 0.7279\n",
      "Epoch 52/100\n",
      "189/189 [==============================] - 2s 12ms/step - loss: 0.2714 - accuracy: 0.9104 - val_loss: 0.4803 - val_accuracy: 0.7989\n",
      "Epoch 53/100\n",
      "189/189 [==============================] - 2s 13ms/step - loss: 0.2744 - accuracy: 0.9082 - val_loss: 0.3391 - val_accuracy: 0.8631\n",
      "Epoch 54/100\n",
      "189/189 [==============================] - 2s 13ms/step - loss: 0.2599 - accuracy: 0.9150 - val_loss: 0.3072 - val_accuracy: 0.8790\n",
      "Epoch 55/100\n",
      "189/189 [==============================] - 3s 13ms/step - loss: 0.2633 - accuracy: 0.9132 - val_loss: 0.4140 - val_accuracy: 0.8326\n",
      "Epoch 56/100\n",
      "189/189 [==============================] - 3s 14ms/step - loss: 0.2570 - accuracy: 0.9142 - val_loss: 0.3856 - val_accuracy: 0.8434\n",
      "Epoch 57/100\n",
      "189/189 [==============================] - 2s 12ms/step - loss: 0.2456 - accuracy: 0.9177 - val_loss: 0.3087 - val_accuracy: 0.8752\n",
      "Epoch 58/100\n",
      "189/189 [==============================] - 2s 11ms/step - loss: 0.2485 - accuracy: 0.9161 - val_loss: 0.2803 - val_accuracy: 0.8894\n",
      "Epoch 59/100\n",
      "189/189 [==============================] - 2s 12ms/step - loss: 0.2372 - accuracy: 0.9198 - val_loss: 0.3738 - val_accuracy: 0.8548\n",
      "Epoch 60/100\n",
      "189/189 [==============================] - 2s 12ms/step - loss: 0.2364 - accuracy: 0.9211 - val_loss: 0.2964 - val_accuracy: 0.8815\n",
      "Epoch 61/100\n",
      "189/189 [==============================] - 2s 12ms/step - loss: 0.2425 - accuracy: 0.9204 - val_loss: 0.2433 - val_accuracy: 0.9051\n",
      "Epoch 62/100\n",
      "189/189 [==============================] - 2s 12ms/step - loss: 0.2340 - accuracy: 0.9235 - val_loss: 0.2737 - val_accuracy: 0.8930\n",
      "Epoch 63/100\n",
      "189/189 [==============================] - 2s 12ms/step - loss: 0.2356 - accuracy: 0.9201 - val_loss: 0.2820 - val_accuracy: 0.8862\n",
      "Epoch 64/100\n",
      "189/189 [==============================] - 2s 13ms/step - loss: 0.2282 - accuracy: 0.9250 - val_loss: 0.3450 - val_accuracy: 0.8644\n",
      "Epoch 65/100\n",
      "189/189 [==============================] - 3s 14ms/step - loss: 0.2243 - accuracy: 0.9265 - val_loss: 0.2386 - val_accuracy: 0.9102\n",
      "Epoch 66/100\n",
      "189/189 [==============================] - 2s 12ms/step - loss: 0.2257 - accuracy: 0.9245 - val_loss: 0.1964 - val_accuracy: 0.9252\n",
      "Epoch 67/100\n",
      "189/189 [==============================] - 2s 12ms/step - loss: 0.2217 - accuracy: 0.9263 - val_loss: 0.3205 - val_accuracy: 0.8775\n",
      "Epoch 68/100\n",
      "189/189 [==============================] - 2s 11ms/step - loss: 0.2172 - accuracy: 0.9273 - val_loss: 0.1661 - val_accuracy: 0.9364\n",
      "Epoch 69/100\n",
      "189/189 [==============================] - 3s 15ms/step - loss: 0.2160 - accuracy: 0.9278 - val_loss: 0.2016 - val_accuracy: 0.9205\n",
      "Epoch 70/100\n",
      "189/189 [==============================] - 2s 13ms/step - loss: 0.2153 - accuracy: 0.9282 - val_loss: 0.2199 - val_accuracy: 0.9165\n",
      "Epoch 71/100\n",
      "189/189 [==============================] - 2s 12ms/step - loss: 0.2120 - accuracy: 0.9298 - val_loss: 0.2408 - val_accuracy: 0.9042\n",
      "Epoch 72/100\n",
      "189/189 [==============================] - 2s 12ms/step - loss: 0.2130 - accuracy: 0.9293 - val_loss: 0.2281 - val_accuracy: 0.9123\n",
      "Epoch 73/100\n",
      "189/189 [==============================] - 2s 11ms/step - loss: 0.2091 - accuracy: 0.9299 - val_loss: 0.2624 - val_accuracy: 0.8987\n",
      "Epoch 74/100\n",
      "189/189 [==============================] - 2s 12ms/step - loss: 0.2124 - accuracy: 0.9312 - val_loss: 0.2588 - val_accuracy: 0.9000\n",
      "Epoch 75/100\n",
      "189/189 [==============================] - 2s 13ms/step - loss: 0.2019 - accuracy: 0.9340 - val_loss: 0.1759 - val_accuracy: 0.9309\n",
      "Epoch 76/100\n",
      "189/189 [==============================] - 3s 13ms/step - loss: 0.2037 - accuracy: 0.9354 - val_loss: 0.2881 - val_accuracy: 0.8896\n",
      "Epoch 77/100\n",
      "189/189 [==============================] - 2s 11ms/step - loss: 0.2045 - accuracy: 0.9329 - val_loss: 0.1921 - val_accuracy: 0.9231\n",
      "Epoch 78/100\n",
      "189/189 [==============================] - 2s 11ms/step - loss: 0.2016 - accuracy: 0.9341 - val_loss: 0.2592 - val_accuracy: 0.8998\n"
     ]
    },
    {
     "data": {
      "text/plain": [
       "<keras.src.callbacks.History at 0x2d1ed0b50>"
      ]
     },
     "execution_count": 16,
     "metadata": {},
     "output_type": "execute_result"
    }
   ],
   "source": [
    "from keras.models import Sequential\n",
    "from keras.layers import LSTM, Dense\n",
    "from keras.optimizers import Adam\n",
    "from keras.callbacks import EarlyStopping\n",
    "from keras.layers import Dropout\n",
    "from keras.regularizers import l2\n",
    "from keras.layers import GaussianNoise\n",
    "\n",
    "# Create a Sequential model\n",
    "model = Sequential()\n",
    "\n",
    "model.add(LSTM(64, activation='leaky_relu',input_shape=(1, X_train.shape[2]), return_sequences=True,kernel_regularizer=l2(0.001), recurrent_regularizer=l2(0.001), bias_regularizer=l2(0.001)))\n",
    "model.add(GaussianNoise(0.01))\n",
    "model.add(Dropout(0.1))\n",
    "model.add(LSTM(128, return_sequences=True, activation='leaky_relu'))\n",
    "# model.add(Dropout(0.3))\n",
    "model.add(LSTM(128, return_sequences=True, activation='leaky_relu'))\n",
    "\n",
    "model.add(LSTM(128, return_sequences=True, activation='leaky_relu'))\n",
    "# model.add(Dropout(0.3))\n",
    "# model.add(LSTM(16, return_sequences=True, activation='leaky_relu'))\n",
    "# model.add(LSTM(256, return_sequences=True, activation='leaky_relu'))\n",
    "# model.add(Dropout(0.4))\n",
    "# model.add(LSTM(256, return_sequences=True, activation='leaky_relu'))\n",
    "# model.add(Dropout(0.4))\n",
    "# model.add(LSTM(16, return_sequences=True, activation='leaky_relu'))\n",
    "model.add(LSTM(256, activation='leaky_relu',kernel_regularizer=l2(0.001), recurrent_regularizer=l2(0.001), bias_regularizer=l2(0.001)))\n",
    "model.add(Dense(4, activation='softmax'))\n",
    "model.compile(loss='sparse_categorical_crossentropy', optimizer=Adam(learning_rate=0.0001), metrics=['accuracy'])\n",
    "\n",
    "early_stopping = EarlyStopping(monitor='val_loss', patience=10, restore_best_weights=True)\n",
    "model.fit(X_train, y_train, epochs=100, batch_size=100,validation_data=(X_val, y_val),callbacks=[early_stopping])"
   ]
  },
  {
   "cell_type": "code",
   "execution_count": 15,
   "metadata": {},
   "outputs": [
    {
     "name": "stdout",
     "output_type": "stream",
     "text": [
      "Test accuracy: 91.22889041900635%\n"
     ]
    }
   ],
   "source": [
    "test_loss, test_accuracy = model.evaluate(X_test_reshaped, y_test, verbose=0)\n",
    "\n",
    "print(f'Test accuracy: {test_accuracy*100}%')"
   ]
  },
  {
   "cell_type": "code",
   "execution_count": 102,
   "metadata": {},
   "outputs": [
    {
     "name": "stdout",
     "output_type": "stream",
     "text": [
      "|   iter    |  target   |    lr     |  neurons  |\n",
      "-------------------------------------------------\n"
     ]
    },
    {
     "name": "stderr",
     "output_type": "stream",
     "text": [
      "WARNING:absl:At this time, the v2.11+ optimizer `tf.keras.optimizers.Adam` runs slowly on M1/M2 Macs, please use the legacy Keras optimizer instead, located at `tf.keras.optimizers.legacy.Adam`.\n",
      "WARNING:absl:`lr` is deprecated in Keras optimizer, please use `learning_rate` or use the legacy optimizer, e.g.,tf.keras.optimizers.legacy.Adam.\n"
     ]
    },
    {
     "name": "stdout",
     "output_type": "stream",
     "text": [
      "| \u001b[0m1        \u001b[0m | \u001b[0m0.9979   \u001b[0m | \u001b[0m0.004229 \u001b[0m | \u001b[0m773.4    \u001b[0m |\n"
     ]
    },
    {
     "name": "stderr",
     "output_type": "stream",
     "text": [
      "WARNING:absl:At this time, the v2.11+ optimizer `tf.keras.optimizers.Adam` runs slowly on M1/M2 Macs, please use the legacy Keras optimizer instead, located at `tf.keras.optimizers.legacy.Adam`.\n",
      "WARNING:absl:`lr` is deprecated in Keras optimizer, please use `learning_rate` or use the legacy optimizer, e.g.,tf.keras.optimizers.legacy.Adam.\n"
     ]
    },
    {
     "name": "stdout",
     "output_type": "stream",
     "text": [
      "| \u001b[0m2        \u001b[0m | \u001b[0m0.9753   \u001b[0m | \u001b[0m0.0001011\u001b[0m | \u001b[0m398.9    \u001b[0m |\n"
     ]
    },
    {
     "name": "stderr",
     "output_type": "stream",
     "text": [
      "WARNING:absl:At this time, the v2.11+ optimizer `tf.keras.optimizers.Adam` runs slowly on M1/M2 Macs, please use the legacy Keras optimizer instead, located at `tf.keras.optimizers.legacy.Adam`.\n",
      "WARNING:absl:`lr` is deprecated in Keras optimizer, please use `learning_rate` or use the legacy optimizer, e.g.,tf.keras.optimizers.legacy.Adam.\n"
     ]
    },
    {
     "name": "stdout",
     "output_type": "stream",
     "text": [
      "| \u001b[0m3        \u001b[0m | \u001b[0m0.9979   \u001b[0m | \u001b[0m0.001553 \u001b[0m | \u001b[0m210.7    \u001b[0m |\n"
     ]
    },
    {
     "name": "stderr",
     "output_type": "stream",
     "text": [
      "WARNING:absl:At this time, the v2.11+ optimizer `tf.keras.optimizers.Adam` runs slowly on M1/M2 Macs, please use the legacy Keras optimizer instead, located at `tf.keras.optimizers.legacy.Adam`.\n",
      "WARNING:absl:`lr` is deprecated in Keras optimizer, please use `learning_rate` or use the legacy optimizer, e.g.,tf.keras.optimizers.legacy.Adam.\n"
     ]
    },
    {
     "name": "stdout",
     "output_type": "stream",
     "text": [
      "| \u001b[0m4        \u001b[0m | \u001b[0m0.9872   \u001b[0m | \u001b[0m0.001944 \u001b[0m | \u001b[0m437.6    \u001b[0m |\n"
     ]
    },
    {
     "name": "stderr",
     "output_type": "stream",
     "text": [
      "WARNING:absl:At this time, the v2.11+ optimizer `tf.keras.optimizers.Adam` runs slowly on M1/M2 Macs, please use the legacy Keras optimizer instead, located at `tf.keras.optimizers.legacy.Adam`.\n",
      "WARNING:absl:`lr` is deprecated in Keras optimizer, please use `learning_rate` or use the legacy optimizer, e.g.,tf.keras.optimizers.legacy.Adam.\n"
     ]
    },
    {
     "name": "stdout",
     "output_type": "stream",
     "text": [
      "| \u001b[0m5        \u001b[0m | \u001b[0m0.9928   \u001b[0m | \u001b[0m0.004028 \u001b[0m | \u001b[0m610.8    \u001b[0m |\n"
     ]
    },
    {
     "name": "stderr",
     "output_type": "stream",
     "text": [
      "WARNING:absl:At this time, the v2.11+ optimizer `tf.keras.optimizers.Adam` runs slowly on M1/M2 Macs, please use the legacy Keras optimizer instead, located at `tf.keras.optimizers.legacy.Adam`.\n",
      "WARNING:absl:`lr` is deprecated in Keras optimizer, please use `learning_rate` or use the legacy optimizer, e.g.,tf.keras.optimizers.legacy.Adam.\n"
     ]
    },
    {
     "ename": "KeyboardInterrupt",
     "evalue": "",
     "output_type": "error",
     "traceback": [
      "\u001b[0;31m---------------------------------------------------------------------------\u001b[0m",
      "\u001b[0;31mKeyboardInterrupt\u001b[0m                         Traceback (most recent call last)",
      "Cell \u001b[0;32mIn[102], line 36\u001b[0m\n\u001b[1;32m     28\u001b[0m bounds \u001b[38;5;241m=\u001b[39m {\u001b[38;5;124m'\u001b[39m\u001b[38;5;124mlr\u001b[39m\u001b[38;5;124m'\u001b[39m: (\u001b[38;5;241m0.0001\u001b[39m, \u001b[38;5;241m0.01\u001b[39m), \u001b[38;5;124m'\u001b[39m\u001b[38;5;124mneurons\u001b[39m\u001b[38;5;124m'\u001b[39m: (\u001b[38;5;241m128\u001b[39m, \u001b[38;5;241m1024\u001b[39m)}\n\u001b[1;32m     30\u001b[0m optimizer \u001b[38;5;241m=\u001b[39m BayesianOptimization(\n\u001b[1;32m     31\u001b[0m     f\u001b[38;5;241m=\u001b[39moptimize_model,\n\u001b[1;32m     32\u001b[0m     pbounds\u001b[38;5;241m=\u001b[39mbounds,\n\u001b[1;32m     33\u001b[0m     random_state\u001b[38;5;241m=\u001b[39m\u001b[38;5;241m1\u001b[39m,\n\u001b[1;32m     34\u001b[0m )\n\u001b[0;32m---> 36\u001b[0m \u001b[43moptimizer\u001b[49m\u001b[38;5;241;43m.\u001b[39;49m\u001b[43mmaximize\u001b[49m\u001b[43m(\u001b[49m\u001b[43minit_points\u001b[49m\u001b[38;5;241;43m=\u001b[39;49m\u001b[38;5;241;43m10\u001b[39;49m\u001b[43m,\u001b[49m\u001b[43m \u001b[49m\u001b[43mn_iter\u001b[49m\u001b[38;5;241;43m=\u001b[39;49m\u001b[38;5;241;43m50\u001b[39;49m\u001b[43m)\u001b[49m\n\u001b[1;32m     38\u001b[0m \u001b[38;5;28;01mfor\u001b[39;00m i, res \u001b[38;5;129;01min\u001b[39;00m \u001b[38;5;28menumerate\u001b[39m(optimizer\u001b[38;5;241m.\u001b[39mres):\n\u001b[1;32m     39\u001b[0m     \u001b[38;5;28mprint\u001b[39m(\u001b[38;5;124m\"\u001b[39m\u001b[38;5;124mIteration \u001b[39m\u001b[38;5;132;01m{}\u001b[39;00m\u001b[38;5;124m: \u001b[39m\u001b[38;5;130;01m\\n\u001b[39;00m\u001b[38;5;130;01m\\t\u001b[39;00m\u001b[38;5;132;01m{}\u001b[39;00m\u001b[38;5;124m\"\u001b[39m\u001b[38;5;241m.\u001b[39mformat(i, res))\n",
      "File \u001b[0;32m~/quantfin/lib/python3.11/site-packages/bayes_opt/bayesian_optimization.py:310\u001b[0m, in \u001b[0;36mBayesianOptimization.maximize\u001b[0;34m(self, init_points, n_iter, acquisition_function, acq, kappa, kappa_decay, kappa_decay_delay, xi, **gp_params)\u001b[0m\n\u001b[1;32m    308\u001b[0m     x_probe \u001b[38;5;241m=\u001b[39m \u001b[38;5;28mself\u001b[39m\u001b[38;5;241m.\u001b[39msuggest(util)\n\u001b[1;32m    309\u001b[0m     iteration \u001b[38;5;241m+\u001b[39m\u001b[38;5;241m=\u001b[39m \u001b[38;5;241m1\u001b[39m\n\u001b[0;32m--> 310\u001b[0m \u001b[38;5;28;43mself\u001b[39;49m\u001b[38;5;241;43m.\u001b[39;49m\u001b[43mprobe\u001b[49m\u001b[43m(\u001b[49m\u001b[43mx_probe\u001b[49m\u001b[43m,\u001b[49m\u001b[43m \u001b[49m\u001b[43mlazy\u001b[49m\u001b[38;5;241;43m=\u001b[39;49m\u001b[38;5;28;43;01mFalse\u001b[39;49;00m\u001b[43m)\u001b[49m\n\u001b[1;32m    312\u001b[0m \u001b[38;5;28;01mif\u001b[39;00m \u001b[38;5;28mself\u001b[39m\u001b[38;5;241m.\u001b[39m_bounds_transformer \u001b[38;5;129;01mand\u001b[39;00m iteration \u001b[38;5;241m>\u001b[39m \u001b[38;5;241m0\u001b[39m:\n\u001b[1;32m    313\u001b[0m     \u001b[38;5;66;03m# The bounds transformer should only modify the bounds after\u001b[39;00m\n\u001b[1;32m    314\u001b[0m     \u001b[38;5;66;03m# the init_points points (only for the true iterations)\u001b[39;00m\n\u001b[1;32m    315\u001b[0m     \u001b[38;5;28mself\u001b[39m\u001b[38;5;241m.\u001b[39mset_bounds(\n\u001b[1;32m    316\u001b[0m         \u001b[38;5;28mself\u001b[39m\u001b[38;5;241m.\u001b[39m_bounds_transformer\u001b[38;5;241m.\u001b[39mtransform(\u001b[38;5;28mself\u001b[39m\u001b[38;5;241m.\u001b[39m_space))\n",
      "File \u001b[0;32m~/quantfin/lib/python3.11/site-packages/bayes_opt/bayesian_optimization.py:208\u001b[0m, in \u001b[0;36mBayesianOptimization.probe\u001b[0;34m(self, params, lazy)\u001b[0m\n\u001b[1;32m    206\u001b[0m     \u001b[38;5;28mself\u001b[39m\u001b[38;5;241m.\u001b[39m_queue\u001b[38;5;241m.\u001b[39madd(params)\n\u001b[1;32m    207\u001b[0m \u001b[38;5;28;01melse\u001b[39;00m:\n\u001b[0;32m--> 208\u001b[0m     \u001b[38;5;28;43mself\u001b[39;49m\u001b[38;5;241;43m.\u001b[39;49m\u001b[43m_space\u001b[49m\u001b[38;5;241;43m.\u001b[39;49m\u001b[43mprobe\u001b[49m\u001b[43m(\u001b[49m\u001b[43mparams\u001b[49m\u001b[43m)\u001b[49m\n\u001b[1;32m    209\u001b[0m     \u001b[38;5;28mself\u001b[39m\u001b[38;5;241m.\u001b[39mdispatch(Events\u001b[38;5;241m.\u001b[39mOPTIMIZATION_STEP)\n",
      "File \u001b[0;32m~/quantfin/lib/python3.11/site-packages/bayes_opt/target_space.py:236\u001b[0m, in \u001b[0;36mTargetSpace.probe\u001b[0;34m(self, params)\u001b[0m\n\u001b[1;32m    234\u001b[0m x \u001b[38;5;241m=\u001b[39m \u001b[38;5;28mself\u001b[39m\u001b[38;5;241m.\u001b[39m_as_array(params)\n\u001b[1;32m    235\u001b[0m params \u001b[38;5;241m=\u001b[39m \u001b[38;5;28mdict\u001b[39m(\u001b[38;5;28mzip\u001b[39m(\u001b[38;5;28mself\u001b[39m\u001b[38;5;241m.\u001b[39m_keys, x))\n\u001b[0;32m--> 236\u001b[0m target \u001b[38;5;241m=\u001b[39m \u001b[38;5;28;43mself\u001b[39;49m\u001b[38;5;241;43m.\u001b[39;49m\u001b[43mtarget_func\u001b[49m\u001b[43m(\u001b[49m\u001b[38;5;241;43m*\u001b[39;49m\u001b[38;5;241;43m*\u001b[39;49m\u001b[43mparams\u001b[49m\u001b[43m)\u001b[49m\n\u001b[1;32m    238\u001b[0m \u001b[38;5;28;01mif\u001b[39;00m \u001b[38;5;28mself\u001b[39m\u001b[38;5;241m.\u001b[39m_constraint \u001b[38;5;129;01mis\u001b[39;00m \u001b[38;5;28;01mNone\u001b[39;00m:\n\u001b[1;32m    239\u001b[0m     \u001b[38;5;28mself\u001b[39m\u001b[38;5;241m.\u001b[39mregister(x, target)\n",
      "Cell \u001b[0;32mIn[102], line 22\u001b[0m, in \u001b[0;36moptimize_model\u001b[0;34m(lr, neurons)\u001b[0m\n\u001b[1;32m     20\u001b[0m model \u001b[38;5;241m=\u001b[39m create_model(lr, neurons)\n\u001b[1;32m     21\u001b[0m \u001b[38;5;66;03m# Assuming you have X_train, y_train as your training data\u001b[39;00m\n\u001b[0;32m---> 22\u001b[0m \u001b[43mmodel\u001b[49m\u001b[38;5;241;43m.\u001b[39;49m\u001b[43mfit\u001b[49m\u001b[43m(\u001b[49m\u001b[43mX_train\u001b[49m\u001b[43m,\u001b[49m\u001b[43m \u001b[49m\u001b[43my_train\u001b[49m\u001b[43m,\u001b[49m\u001b[43m \u001b[49m\u001b[43mepochs\u001b[49m\u001b[38;5;241;43m=\u001b[39;49m\u001b[38;5;241;43m10\u001b[39;49m\u001b[43m,\u001b[49m\u001b[43m \u001b[49m\u001b[43mbatch_size\u001b[49m\u001b[38;5;241;43m=\u001b[39;49m\u001b[38;5;241;43m32\u001b[39;49m\u001b[43m,\u001b[49m\u001b[43m \u001b[49m\u001b[43mverbose\u001b[49m\u001b[38;5;241;43m=\u001b[39;49m\u001b[38;5;241;43m0\u001b[39;49m\u001b[43m)\u001b[49m\n\u001b[1;32m     23\u001b[0m \u001b[38;5;66;03m# Assuming you have X_val, y_val as your validation data\u001b[39;00m\n\u001b[1;32m     24\u001b[0m val_loss, val_accuracy \u001b[38;5;241m=\u001b[39m model\u001b[38;5;241m.\u001b[39mevaluate(X_val, y_val, verbose\u001b[38;5;241m=\u001b[39m\u001b[38;5;241m0\u001b[39m)\n",
      "File \u001b[0;32m~/quantfin/lib/python3.11/site-packages/keras/src/utils/traceback_utils.py:65\u001b[0m, in \u001b[0;36mfilter_traceback.<locals>.error_handler\u001b[0;34m(*args, **kwargs)\u001b[0m\n\u001b[1;32m     63\u001b[0m filtered_tb \u001b[38;5;241m=\u001b[39m \u001b[38;5;28;01mNone\u001b[39;00m\n\u001b[1;32m     64\u001b[0m \u001b[38;5;28;01mtry\u001b[39;00m:\n\u001b[0;32m---> 65\u001b[0m     \u001b[38;5;28;01mreturn\u001b[39;00m \u001b[43mfn\u001b[49m\u001b[43m(\u001b[49m\u001b[38;5;241;43m*\u001b[39;49m\u001b[43margs\u001b[49m\u001b[43m,\u001b[49m\u001b[43m \u001b[49m\u001b[38;5;241;43m*\u001b[39;49m\u001b[38;5;241;43m*\u001b[39;49m\u001b[43mkwargs\u001b[49m\u001b[43m)\u001b[49m\n\u001b[1;32m     66\u001b[0m \u001b[38;5;28;01mexcept\u001b[39;00m \u001b[38;5;167;01mException\u001b[39;00m \u001b[38;5;28;01mas\u001b[39;00m e:\n\u001b[1;32m     67\u001b[0m     filtered_tb \u001b[38;5;241m=\u001b[39m _process_traceback_frames(e\u001b[38;5;241m.\u001b[39m__traceback__)\n",
      "File \u001b[0;32m~/quantfin/lib/python3.11/site-packages/keras/src/engine/training.py:1807\u001b[0m, in \u001b[0;36mModel.fit\u001b[0;34m(self, x, y, batch_size, epochs, verbose, callbacks, validation_split, validation_data, shuffle, class_weight, sample_weight, initial_epoch, steps_per_epoch, validation_steps, validation_batch_size, validation_freq, max_queue_size, workers, use_multiprocessing)\u001b[0m\n\u001b[1;32m   1799\u001b[0m \u001b[38;5;28;01mwith\u001b[39;00m tf\u001b[38;5;241m.\u001b[39mprofiler\u001b[38;5;241m.\u001b[39mexperimental\u001b[38;5;241m.\u001b[39mTrace(\n\u001b[1;32m   1800\u001b[0m     \u001b[38;5;124m\"\u001b[39m\u001b[38;5;124mtrain\u001b[39m\u001b[38;5;124m\"\u001b[39m,\n\u001b[1;32m   1801\u001b[0m     epoch_num\u001b[38;5;241m=\u001b[39mepoch,\n\u001b[0;32m   (...)\u001b[0m\n\u001b[1;32m   1804\u001b[0m     _r\u001b[38;5;241m=\u001b[39m\u001b[38;5;241m1\u001b[39m,\n\u001b[1;32m   1805\u001b[0m ):\n\u001b[1;32m   1806\u001b[0m     callbacks\u001b[38;5;241m.\u001b[39mon_train_batch_begin(step)\n\u001b[0;32m-> 1807\u001b[0m     tmp_logs \u001b[38;5;241m=\u001b[39m \u001b[38;5;28;43mself\u001b[39;49m\u001b[38;5;241;43m.\u001b[39;49m\u001b[43mtrain_function\u001b[49m\u001b[43m(\u001b[49m\u001b[43miterator\u001b[49m\u001b[43m)\u001b[49m\n\u001b[1;32m   1808\u001b[0m     \u001b[38;5;28;01mif\u001b[39;00m data_handler\u001b[38;5;241m.\u001b[39mshould_sync:\n\u001b[1;32m   1809\u001b[0m         context\u001b[38;5;241m.\u001b[39masync_wait()\n",
      "File \u001b[0;32m~/quantfin/lib/python3.11/site-packages/tensorflow/python/util/traceback_utils.py:150\u001b[0m, in \u001b[0;36mfilter_traceback.<locals>.error_handler\u001b[0;34m(*args, **kwargs)\u001b[0m\n\u001b[1;32m    148\u001b[0m filtered_tb \u001b[38;5;241m=\u001b[39m \u001b[38;5;28;01mNone\u001b[39;00m\n\u001b[1;32m    149\u001b[0m \u001b[38;5;28;01mtry\u001b[39;00m:\n\u001b[0;32m--> 150\u001b[0m   \u001b[38;5;28;01mreturn\u001b[39;00m \u001b[43mfn\u001b[49m\u001b[43m(\u001b[49m\u001b[38;5;241;43m*\u001b[39;49m\u001b[43margs\u001b[49m\u001b[43m,\u001b[49m\u001b[43m \u001b[49m\u001b[38;5;241;43m*\u001b[39;49m\u001b[38;5;241;43m*\u001b[39;49m\u001b[43mkwargs\u001b[49m\u001b[43m)\u001b[49m\n\u001b[1;32m    151\u001b[0m \u001b[38;5;28;01mexcept\u001b[39;00m \u001b[38;5;167;01mException\u001b[39;00m \u001b[38;5;28;01mas\u001b[39;00m e:\n\u001b[1;32m    152\u001b[0m   filtered_tb \u001b[38;5;241m=\u001b[39m _process_traceback_frames(e\u001b[38;5;241m.\u001b[39m__traceback__)\n",
      "File \u001b[0;32m~/quantfin/lib/python3.11/site-packages/tensorflow/python/eager/polymorphic_function/polymorphic_function.py:832\u001b[0m, in \u001b[0;36mFunction.__call__\u001b[0;34m(self, *args, **kwds)\u001b[0m\n\u001b[1;32m    829\u001b[0m compiler \u001b[38;5;241m=\u001b[39m \u001b[38;5;124m\"\u001b[39m\u001b[38;5;124mxla\u001b[39m\u001b[38;5;124m\"\u001b[39m \u001b[38;5;28;01mif\u001b[39;00m \u001b[38;5;28mself\u001b[39m\u001b[38;5;241m.\u001b[39m_jit_compile \u001b[38;5;28;01melse\u001b[39;00m \u001b[38;5;124m\"\u001b[39m\u001b[38;5;124mnonXla\u001b[39m\u001b[38;5;124m\"\u001b[39m\n\u001b[1;32m    831\u001b[0m \u001b[38;5;28;01mwith\u001b[39;00m OptionalXlaContext(\u001b[38;5;28mself\u001b[39m\u001b[38;5;241m.\u001b[39m_jit_compile):\n\u001b[0;32m--> 832\u001b[0m   result \u001b[38;5;241m=\u001b[39m \u001b[38;5;28;43mself\u001b[39;49m\u001b[38;5;241;43m.\u001b[39;49m\u001b[43m_call\u001b[49m\u001b[43m(\u001b[49m\u001b[38;5;241;43m*\u001b[39;49m\u001b[43margs\u001b[49m\u001b[43m,\u001b[49m\u001b[43m \u001b[49m\u001b[38;5;241;43m*\u001b[39;49m\u001b[38;5;241;43m*\u001b[39;49m\u001b[43mkwds\u001b[49m\u001b[43m)\u001b[49m\n\u001b[1;32m    834\u001b[0m new_tracing_count \u001b[38;5;241m=\u001b[39m \u001b[38;5;28mself\u001b[39m\u001b[38;5;241m.\u001b[39mexperimental_get_tracing_count()\n\u001b[1;32m    835\u001b[0m without_tracing \u001b[38;5;241m=\u001b[39m (tracing_count \u001b[38;5;241m==\u001b[39m new_tracing_count)\n",
      "File \u001b[0;32m~/quantfin/lib/python3.11/site-packages/tensorflow/python/eager/polymorphic_function/polymorphic_function.py:868\u001b[0m, in \u001b[0;36mFunction._call\u001b[0;34m(self, *args, **kwds)\u001b[0m\n\u001b[1;32m    865\u001b[0m   \u001b[38;5;28mself\u001b[39m\u001b[38;5;241m.\u001b[39m_lock\u001b[38;5;241m.\u001b[39mrelease()\n\u001b[1;32m    866\u001b[0m   \u001b[38;5;66;03m# In this case we have created variables on the first call, so we run the\u001b[39;00m\n\u001b[1;32m    867\u001b[0m   \u001b[38;5;66;03m# defunned version which is guaranteed to never create variables.\u001b[39;00m\n\u001b[0;32m--> 868\u001b[0m   \u001b[38;5;28;01mreturn\u001b[39;00m \u001b[43mtracing_compilation\u001b[49m\u001b[38;5;241;43m.\u001b[39;49m\u001b[43mcall_function\u001b[49m\u001b[43m(\u001b[49m\n\u001b[1;32m    869\u001b[0m \u001b[43m      \u001b[49m\u001b[43margs\u001b[49m\u001b[43m,\u001b[49m\u001b[43m \u001b[49m\u001b[43mkwds\u001b[49m\u001b[43m,\u001b[49m\u001b[43m \u001b[49m\u001b[38;5;28;43mself\u001b[39;49m\u001b[38;5;241;43m.\u001b[39;49m\u001b[43m_no_variable_creation_config\u001b[49m\n\u001b[1;32m    870\u001b[0m \u001b[43m  \u001b[49m\u001b[43m)\u001b[49m\n\u001b[1;32m    871\u001b[0m \u001b[38;5;28;01melif\u001b[39;00m \u001b[38;5;28mself\u001b[39m\u001b[38;5;241m.\u001b[39m_variable_creation_config \u001b[38;5;129;01mis\u001b[39;00m \u001b[38;5;129;01mnot\u001b[39;00m \u001b[38;5;28;01mNone\u001b[39;00m:\n\u001b[1;32m    872\u001b[0m   \u001b[38;5;66;03m# Release the lock early so that multiple threads can perform the call\u001b[39;00m\n\u001b[1;32m    873\u001b[0m   \u001b[38;5;66;03m# in parallel.\u001b[39;00m\n\u001b[1;32m    874\u001b[0m   \u001b[38;5;28mself\u001b[39m\u001b[38;5;241m.\u001b[39m_lock\u001b[38;5;241m.\u001b[39mrelease()\n",
      "File \u001b[0;32m~/quantfin/lib/python3.11/site-packages/tensorflow/python/eager/polymorphic_function/tracing_compilation.py:139\u001b[0m, in \u001b[0;36mcall_function\u001b[0;34m(args, kwargs, tracing_options)\u001b[0m\n\u001b[1;32m    137\u001b[0m bound_args \u001b[38;5;241m=\u001b[39m function\u001b[38;5;241m.\u001b[39mfunction_type\u001b[38;5;241m.\u001b[39mbind(\u001b[38;5;241m*\u001b[39margs, \u001b[38;5;241m*\u001b[39m\u001b[38;5;241m*\u001b[39mkwargs)\n\u001b[1;32m    138\u001b[0m flat_inputs \u001b[38;5;241m=\u001b[39m function\u001b[38;5;241m.\u001b[39mfunction_type\u001b[38;5;241m.\u001b[39munpack_inputs(bound_args)\n\u001b[0;32m--> 139\u001b[0m \u001b[38;5;28;01mreturn\u001b[39;00m \u001b[43mfunction\u001b[49m\u001b[38;5;241;43m.\u001b[39;49m\u001b[43m_call_flat\u001b[49m\u001b[43m(\u001b[49m\u001b[43m  \u001b[49m\u001b[38;5;66;43;03m# pylint: disable=protected-access\u001b[39;49;00m\n\u001b[1;32m    140\u001b[0m \u001b[43m    \u001b[49m\u001b[43mflat_inputs\u001b[49m\u001b[43m,\u001b[49m\u001b[43m \u001b[49m\u001b[43mcaptured_inputs\u001b[49m\u001b[38;5;241;43m=\u001b[39;49m\u001b[43mfunction\u001b[49m\u001b[38;5;241;43m.\u001b[39;49m\u001b[43mcaptured_inputs\u001b[49m\n\u001b[1;32m    141\u001b[0m \u001b[43m\u001b[49m\u001b[43m)\u001b[49m\n",
      "File \u001b[0;32m~/quantfin/lib/python3.11/site-packages/tensorflow/python/eager/polymorphic_function/concrete_function.py:1323\u001b[0m, in \u001b[0;36mConcreteFunction._call_flat\u001b[0;34m(self, tensor_inputs, captured_inputs)\u001b[0m\n\u001b[1;32m   1319\u001b[0m possible_gradient_type \u001b[38;5;241m=\u001b[39m gradients_util\u001b[38;5;241m.\u001b[39mPossibleTapeGradientTypes(args)\n\u001b[1;32m   1320\u001b[0m \u001b[38;5;28;01mif\u001b[39;00m (possible_gradient_type \u001b[38;5;241m==\u001b[39m gradients_util\u001b[38;5;241m.\u001b[39mPOSSIBLE_GRADIENT_TYPES_NONE\n\u001b[1;32m   1321\u001b[0m     \u001b[38;5;129;01mand\u001b[39;00m executing_eagerly):\n\u001b[1;32m   1322\u001b[0m   \u001b[38;5;66;03m# No tape is watching; skip to running the function.\u001b[39;00m\n\u001b[0;32m-> 1323\u001b[0m   \u001b[38;5;28;01mreturn\u001b[39;00m \u001b[38;5;28;43mself\u001b[39;49m\u001b[38;5;241;43m.\u001b[39;49m\u001b[43m_inference_function\u001b[49m\u001b[38;5;241;43m.\u001b[39;49m\u001b[43mcall_preflattened\u001b[49m\u001b[43m(\u001b[49m\u001b[43margs\u001b[49m\u001b[43m)\u001b[49m\n\u001b[1;32m   1324\u001b[0m forward_backward \u001b[38;5;241m=\u001b[39m \u001b[38;5;28mself\u001b[39m\u001b[38;5;241m.\u001b[39m_select_forward_and_backward_functions(\n\u001b[1;32m   1325\u001b[0m     args,\n\u001b[1;32m   1326\u001b[0m     possible_gradient_type,\n\u001b[1;32m   1327\u001b[0m     executing_eagerly)\n\u001b[1;32m   1328\u001b[0m forward_function, args_with_tangents \u001b[38;5;241m=\u001b[39m forward_backward\u001b[38;5;241m.\u001b[39mforward()\n",
      "File \u001b[0;32m~/quantfin/lib/python3.11/site-packages/tensorflow/python/eager/polymorphic_function/atomic_function.py:216\u001b[0m, in \u001b[0;36mAtomicFunction.call_preflattened\u001b[0;34m(self, args)\u001b[0m\n\u001b[1;32m    214\u001b[0m \u001b[38;5;28;01mdef\u001b[39;00m \u001b[38;5;21mcall_preflattened\u001b[39m(\u001b[38;5;28mself\u001b[39m, args: Sequence[core\u001b[38;5;241m.\u001b[39mTensor]) \u001b[38;5;241m-\u001b[39m\u001b[38;5;241m>\u001b[39m Any:\n\u001b[1;32m    215\u001b[0m \u001b[38;5;250m  \u001b[39m\u001b[38;5;124;03m\"\"\"Calls with flattened tensor inputs and returns the structured output.\"\"\"\u001b[39;00m\n\u001b[0;32m--> 216\u001b[0m   flat_outputs \u001b[38;5;241m=\u001b[39m \u001b[38;5;28;43mself\u001b[39;49m\u001b[38;5;241;43m.\u001b[39;49m\u001b[43mcall_flat\u001b[49m\u001b[43m(\u001b[49m\u001b[38;5;241;43m*\u001b[39;49m\u001b[43margs\u001b[49m\u001b[43m)\u001b[49m\n\u001b[1;32m    217\u001b[0m   \u001b[38;5;28;01mreturn\u001b[39;00m \u001b[38;5;28mself\u001b[39m\u001b[38;5;241m.\u001b[39mfunction_type\u001b[38;5;241m.\u001b[39mpack_output(flat_outputs)\n",
      "File \u001b[0;32m~/quantfin/lib/python3.11/site-packages/tensorflow/python/eager/polymorphic_function/atomic_function.py:251\u001b[0m, in \u001b[0;36mAtomicFunction.call_flat\u001b[0;34m(self, *args)\u001b[0m\n\u001b[1;32m    249\u001b[0m \u001b[38;5;28;01mwith\u001b[39;00m record\u001b[38;5;241m.\u001b[39mstop_recording():\n\u001b[1;32m    250\u001b[0m   \u001b[38;5;28;01mif\u001b[39;00m \u001b[38;5;28mself\u001b[39m\u001b[38;5;241m.\u001b[39m_bound_context\u001b[38;5;241m.\u001b[39mexecuting_eagerly():\n\u001b[0;32m--> 251\u001b[0m     outputs \u001b[38;5;241m=\u001b[39m \u001b[38;5;28;43mself\u001b[39;49m\u001b[38;5;241;43m.\u001b[39;49m\u001b[43m_bound_context\u001b[49m\u001b[38;5;241;43m.\u001b[39;49m\u001b[43mcall_function\u001b[49m\u001b[43m(\u001b[49m\n\u001b[1;32m    252\u001b[0m \u001b[43m        \u001b[49m\u001b[38;5;28;43mself\u001b[39;49m\u001b[38;5;241;43m.\u001b[39;49m\u001b[43mname\u001b[49m\u001b[43m,\u001b[49m\n\u001b[1;32m    253\u001b[0m \u001b[43m        \u001b[49m\u001b[38;5;28;43mlist\u001b[39;49m\u001b[43m(\u001b[49m\u001b[43margs\u001b[49m\u001b[43m)\u001b[49m\u001b[43m,\u001b[49m\n\u001b[1;32m    254\u001b[0m \u001b[43m        \u001b[49m\u001b[38;5;28;43mlen\u001b[39;49m\u001b[43m(\u001b[49m\u001b[38;5;28;43mself\u001b[39;49m\u001b[38;5;241;43m.\u001b[39;49m\u001b[43mfunction_type\u001b[49m\u001b[38;5;241;43m.\u001b[39;49m\u001b[43mflat_outputs\u001b[49m\u001b[43m)\u001b[49m\u001b[43m,\u001b[49m\n\u001b[1;32m    255\u001b[0m \u001b[43m    \u001b[49m\u001b[43m)\u001b[49m\n\u001b[1;32m    256\u001b[0m   \u001b[38;5;28;01melse\u001b[39;00m:\n\u001b[1;32m    257\u001b[0m     outputs \u001b[38;5;241m=\u001b[39m make_call_op_in_graph(\n\u001b[1;32m    258\u001b[0m         \u001b[38;5;28mself\u001b[39m,\n\u001b[1;32m    259\u001b[0m         \u001b[38;5;28mlist\u001b[39m(args),\n\u001b[1;32m    260\u001b[0m         \u001b[38;5;28mself\u001b[39m\u001b[38;5;241m.\u001b[39m_bound_context\u001b[38;5;241m.\u001b[39mfunction_call_options\u001b[38;5;241m.\u001b[39mas_attrs(),\n\u001b[1;32m    261\u001b[0m     )\n",
      "File \u001b[0;32m~/quantfin/lib/python3.11/site-packages/tensorflow/python/eager/context.py:1486\u001b[0m, in \u001b[0;36mContext.call_function\u001b[0;34m(self, name, tensor_inputs, num_outputs)\u001b[0m\n\u001b[1;32m   1484\u001b[0m cancellation_context \u001b[38;5;241m=\u001b[39m cancellation\u001b[38;5;241m.\u001b[39mcontext()\n\u001b[1;32m   1485\u001b[0m \u001b[38;5;28;01mif\u001b[39;00m cancellation_context \u001b[38;5;129;01mis\u001b[39;00m \u001b[38;5;28;01mNone\u001b[39;00m:\n\u001b[0;32m-> 1486\u001b[0m   outputs \u001b[38;5;241m=\u001b[39m \u001b[43mexecute\u001b[49m\u001b[38;5;241;43m.\u001b[39;49m\u001b[43mexecute\u001b[49m\u001b[43m(\u001b[49m\n\u001b[1;32m   1487\u001b[0m \u001b[43m      \u001b[49m\u001b[43mname\u001b[49m\u001b[38;5;241;43m.\u001b[39;49m\u001b[43mdecode\u001b[49m\u001b[43m(\u001b[49m\u001b[38;5;124;43m\"\u001b[39;49m\u001b[38;5;124;43mutf-8\u001b[39;49m\u001b[38;5;124;43m\"\u001b[39;49m\u001b[43m)\u001b[49m\u001b[43m,\u001b[49m\n\u001b[1;32m   1488\u001b[0m \u001b[43m      \u001b[49m\u001b[43mnum_outputs\u001b[49m\u001b[38;5;241;43m=\u001b[39;49m\u001b[43mnum_outputs\u001b[49m\u001b[43m,\u001b[49m\n\u001b[1;32m   1489\u001b[0m \u001b[43m      \u001b[49m\u001b[43minputs\u001b[49m\u001b[38;5;241;43m=\u001b[39;49m\u001b[43mtensor_inputs\u001b[49m\u001b[43m,\u001b[49m\n\u001b[1;32m   1490\u001b[0m \u001b[43m      \u001b[49m\u001b[43mattrs\u001b[49m\u001b[38;5;241;43m=\u001b[39;49m\u001b[43mattrs\u001b[49m\u001b[43m,\u001b[49m\n\u001b[1;32m   1491\u001b[0m \u001b[43m      \u001b[49m\u001b[43mctx\u001b[49m\u001b[38;5;241;43m=\u001b[39;49m\u001b[38;5;28;43mself\u001b[39;49m\u001b[43m,\u001b[49m\n\u001b[1;32m   1492\u001b[0m \u001b[43m  \u001b[49m\u001b[43m)\u001b[49m\n\u001b[1;32m   1493\u001b[0m \u001b[38;5;28;01melse\u001b[39;00m:\n\u001b[1;32m   1494\u001b[0m   outputs \u001b[38;5;241m=\u001b[39m execute\u001b[38;5;241m.\u001b[39mexecute_with_cancellation(\n\u001b[1;32m   1495\u001b[0m       name\u001b[38;5;241m.\u001b[39mdecode(\u001b[38;5;124m\"\u001b[39m\u001b[38;5;124mutf-8\u001b[39m\u001b[38;5;124m\"\u001b[39m),\n\u001b[1;32m   1496\u001b[0m       num_outputs\u001b[38;5;241m=\u001b[39mnum_outputs,\n\u001b[0;32m   (...)\u001b[0m\n\u001b[1;32m   1500\u001b[0m       cancellation_manager\u001b[38;5;241m=\u001b[39mcancellation_context,\n\u001b[1;32m   1501\u001b[0m   )\n",
      "File \u001b[0;32m~/quantfin/lib/python3.11/site-packages/tensorflow/python/eager/execute.py:53\u001b[0m, in \u001b[0;36mquick_execute\u001b[0;34m(op_name, num_outputs, inputs, attrs, ctx, name)\u001b[0m\n\u001b[1;32m     51\u001b[0m \u001b[38;5;28;01mtry\u001b[39;00m:\n\u001b[1;32m     52\u001b[0m   ctx\u001b[38;5;241m.\u001b[39mensure_initialized()\n\u001b[0;32m---> 53\u001b[0m   tensors \u001b[38;5;241m=\u001b[39m \u001b[43mpywrap_tfe\u001b[49m\u001b[38;5;241;43m.\u001b[39;49m\u001b[43mTFE_Py_Execute\u001b[49m\u001b[43m(\u001b[49m\u001b[43mctx\u001b[49m\u001b[38;5;241;43m.\u001b[39;49m\u001b[43m_handle\u001b[49m\u001b[43m,\u001b[49m\u001b[43m \u001b[49m\u001b[43mdevice_name\u001b[49m\u001b[43m,\u001b[49m\u001b[43m \u001b[49m\u001b[43mop_name\u001b[49m\u001b[43m,\u001b[49m\n\u001b[1;32m     54\u001b[0m \u001b[43m                                      \u001b[49m\u001b[43minputs\u001b[49m\u001b[43m,\u001b[49m\u001b[43m \u001b[49m\u001b[43mattrs\u001b[49m\u001b[43m,\u001b[49m\u001b[43m \u001b[49m\u001b[43mnum_outputs\u001b[49m\u001b[43m)\u001b[49m\n\u001b[1;32m     55\u001b[0m \u001b[38;5;28;01mexcept\u001b[39;00m core\u001b[38;5;241m.\u001b[39m_NotOkStatusException \u001b[38;5;28;01mas\u001b[39;00m e:\n\u001b[1;32m     56\u001b[0m   \u001b[38;5;28;01mif\u001b[39;00m name \u001b[38;5;129;01mis\u001b[39;00m \u001b[38;5;129;01mnot\u001b[39;00m \u001b[38;5;28;01mNone\u001b[39;00m:\n",
      "\u001b[0;31mKeyboardInterrupt\u001b[0m: "
     ]
    }
   ],
   "source": [
    "from keras.models import Sequential\n",
    "from keras.layers import LSTM, Dense\n",
    "from keras.optimizers import Adam\n",
    "from bayes_opt import BayesianOptimization\n",
    " \n",
    "# Define a function to build and compile the model\n",
    "def create_model(lr, neurons):\n",
    "    model = Sequential()\n",
    "    model.add(LSTM(int(neurons), input_shape=(1, X_train.shape[2]), return_sequences=True),ctivation='leaky_relu')\n",
    "    model.add(LSTM(int(neurons)//2, return_sequences=True, activation='leaky_relu'))\n",
    "    model.add(LSTM(int(neurons)//4, return_sequences=True, activation='leaky_relu'))\n",
    "    model.add(LSTM(int(neurons)//8, return_sequences=True, activation='leaky_relu'))\n",
    "    model.add(LSTM(int(neurons)//16, activation='leaky_relu'))\n",
    "    model.add(Dense(4, activation='softmax'))\n",
    "    model.compile(loss='sparse_categorical_crossentropy', optimizer=Adam(lr=lr), metrics=['accuracy'])\n",
    "    return model\n",
    "\n",
    "# Define a function for the hyperparameter optimization\n",
    "def optimize_model(lr, neurons):\n",
    "    model = create_model(lr, neurons)\n",
    "    # Assuming you have X_train, y_train as your training data\n",
    "    model.fit(X_train, y_train, epochs=10, batch_size=32, verbose=0)\n",
    "    # Assuming you have X_val, y_val as your validation data\n",
    "    val_loss, val_accuracy = model.evaluate(X_val, y_val, verbose=0)\n",
    "    return val_accuracy\n",
    "\n",
    "# Define the bounds of the hyperparameters to optimize\n",
    "bounds = {'lr': (0.0001, 0.01), 'neurons': (128, 1024)}\n",
    "\n",
    "optimizer = BayesianOptimization(\n",
    "    f=optimize_model,\n",
    "    pbounds=bounds,\n",
    "    random_state=1,\n",
    ")\n",
    "\n",
    "optimizer.maximize(init_points=10, n_iter=50)\n",
    "\n",
    "for i, res in enumerate(optimizer.res):\n",
    "    print(\"Iteration {}: \\n\\t{}\".format(i, res))\n",
    "\n",
    "print(optimizer.max)"
   ]
  },
  {
   "cell_type": "code",
   "execution_count": 327,
   "metadata": {},
   "outputs": [
    {
     "name": "stdout",
     "output_type": "stream",
     "text": [
      "100/100 [==============================] - 0s 2ms/step\n",
      "Accuracy: 92.25%\n",
      "F1 Score: 0.9274626479008773\n",
      "100/100 [==============================] - 0s 2ms/step\n",
      "AUC-ROC (One-vs-Rest): 0.987352306432757\n"
     ]
    }
   ],
   "source": [
    "from sklearn.metrics import roc_curve,roc_auc_score\n",
    "from sklearn.metrics import f1_score\n",
    "from sklearn.metrics import accuracy_score\n",
    "y_pred = model.predict(X_test_reshaped)\n",
    "y_pred = np.argmax(y_pred, axis=-1)\n",
    "accuracy = accuracy_score(y_test, y_pred)\n",
    "print(\"Accuracy: %.2f%%\" % (accuracy * 100.0))\n",
    "f1 = f1_score(y_test, y_pred, average='weighted')  # Use 'weighted' if you have a multi-class problem\n",
    "print(f'F1 Score: {f1}')\n",
    "y_prob_pred = model.predict(X_test_reshaped)\n",
    "acc_score = accuracy_score(y_test, y_pred)\n",
    "auc_roc = roc_auc_score(y_test, y_prob_pred, multi_class='ovr')\n",
    "print(f'AUC-ROC (One-vs-Rest): {auc_roc}')\n"
   ]
  },
  {
   "cell_type": "code",
   "execution_count": null,
   "metadata": {},
   "outputs": [],
   "source": []
  }
 ],
 "metadata": {
  "kernelspec": {
   "display_name": "quantfin",
   "language": "python",
   "name": "python3"
  },
  "language_info": {
   "codemirror_mode": {
    "name": "ipython",
    "version": 3
   },
   "file_extension": ".py",
   "mimetype": "text/x-python",
   "name": "python",
   "nbconvert_exporter": "python",
   "pygments_lexer": "ipython3",
   "version": "3.11.5"
  }
 },
 "nbformat": 4,
 "nbformat_minor": 2
}
